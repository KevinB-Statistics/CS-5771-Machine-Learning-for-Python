{
  "cells": [
    {
      "cell_type": "markdown",
      "metadata": {
        "id": "yVfx1GnHr6Hr"
      },
      "source": [
        "## Python For Machine Learning Fall 2025\n",
        "---\n",
        "# Linear Regression\n",
        "\n"
      ]
    },
    {
      "cell_type": "markdown",
      "source": [
        "\n",
        "### 1. Introduction\n",
        "Linear regression is one of the simplest supervised learning algorithms. In fact, it is so simple that it is sometimes not considered machine learning at all! Whatever you believe, the fact is that linear regression--and its extensions--continues to be a common and useful method of making predictions when the target vector is a quantitative value (e.g. home price, age)"
      ],
      "metadata": {
        "id": "l3OkaCLpkRV1"
      }
    },
    {
      "cell_type": "markdown",
      "source": [
        "#### 1.1 Early Concepts and the Method of Least Squares\n",
        "\n",
        "The true birth of linear regression is tied to the development of the method of least squares. While several brilliant minds worked on similar problems, two figures are most prominently credited with its creation in the early 19th century.\n",
        "\n",
        "- Adrien-Marie Legendre: the first to publish the method of least squares in 1805\n",
        "- Carl Friedrich Gauss: Gauss claimed he had been using the method since 1795 but didn't publish it until 1809\n",
        "\n",
        "#### 1.2 Regression\n",
        "\n",
        "In the 1880s, Sir Francis Galton was studying the relationship between the heights of parents and their children. He observed that very tall parents tended to have children who were tall, but slightly shorter than them. Similarly, very short parents tended to have children who were short, but slightly taller than them.\n",
        "\n",
        "He called this phenomenon \"regression towards mediocrity,\" which was later termed \"regression to the mean.\" He developed a graphical method to describe this relationship, plotting the parents' heights against the children's heights and drawing a line through the data. He used the term \"regression line\" to describe this relationship. This is where the name of the technique comes from, even though today its primary use is for prediction, not just describing this specific biological phenomenon."
      ],
      "metadata": {
        "id": "X2nWMpZ6tbMw"
      }
    },
    {
      "cell_type": "markdown",
      "source": [
        "#### 1.3 Problem Statement\n",
        "You want to train a model that represents a linear relationship between the feature and target vector.\n",
        "\n",
        "#### 1.4 Solution\n",
        "Use a linear regression (`LinearRegression` in scikit-learn)"
      ],
      "metadata": {
        "id": "wrPedJx2txfG"
      }
    },
    {
      "cell_type": "code",
      "execution_count": null,
      "metadata": {
        "collapsed": true,
        "id": "2mFSHAo0r6Hs"
      },
      "outputs": [],
      "source": []
    },
    {
      "cell_type": "markdown",
      "source": [
        "#### 1.5 Code Interpretation\n",
        "\n",
        "The script uses `scikit-learn` library to perform three main steps:\n",
        "\n",
        "- Generate a synthetic dataset suitable for a regression problem.\n",
        "- Create an instance of a linear regression model.\n",
        "- Train (or \"fit\") the model to the generated data."
      ],
      "metadata": {
        "id": "dyG9mLGsv88z"
      }
    },
    {
      "cell_type": "markdown",
      "source": [
        "##### 1.5.1 Generating Data\n",
        "`features, target = make_regression(n_samples=100, n_features=3, n_informative=3, random_state=1)`\n",
        "\n",
        "This line calls the make_regression function to create our dataset.\n",
        "\n",
        "`n_samples=100`: This specifies that we want `100` observations or rows in our dataset.\n",
        "\n",
        "`n_features=3`: This means each sample will have `3` descriptive features (or columns).\n",
        "\n",
        "`n_informative=3`: This tells the function that all `3` features should be \"informative,\" meaning they all have a meaningful influence on the target value.\n",
        "\n",
        "`random_state=1`: This is a seed for the random number generator. Using a specific random_state ensures that every time this code is run, the exact same \"random\" data is generated. This is crucial for getting reproducible results.\n",
        "\n",
        "The function returns two things:\n",
        "\n",
        "`features`: A matrix (like a table) with `100` rows and `3` columns. These are the independent variables.\n",
        "\n",
        "`target`: A vector (a single column) with `100` values. This is the dependent variable that the model will learn to predict."
      ],
      "metadata": {
        "id": "XW5tCOTSxkNN"
      }
    },
    {
      "cell_type": "markdown",
      "source": [
        "##### 1.5.2 Creating the Model\n",
        "`regression = LinearRegression()`\n",
        "\n",
        "This line creates an instance of the LinearRegression model. You can think of regression as a blank, untrained model object, ready to learn from data."
      ],
      "metadata": {
        "id": "SX6aSRrtxlSj"
      }
    },
    {
      "cell_type": "markdown",
      "source": [
        "##### 1.5.3 Training the model\n",
        "\n",
        "`model = regression.fit(features, target)`\n",
        "\n",
        "This is the most critical step. The `.fit()` method is where the model training happens.\n",
        "\n",
        "`regression.fit(features, target)`: The features and target data were passed to the fit method. The linear regression algorithm then analyzes this data to find the optimal coefficients (or weights) for the three features that best predict the target value. It essentially \"learns\" the mathematical relationship between the inputs (`features`) and the output (`target`).\n",
        "\n",
        "The `model` now holds this trained object, which can be used to make predictions on new, unseen data."
      ],
      "metadata": {
        "id": "_aSW_KFqx46H"
      }
    },
    {
      "cell_type": "markdown",
      "source": [
        "### 2. Linear Regression Model\n",
        "\n",
        "Linear regression assumes that the relationship between the features and the target vector is approximately linear. That is, the effect (also called coefficient, weight, or parameter) of the features on the target vector is constant. In the solution above, for the sake of explanation, the model was trained using only three features. Thus, the model is as follows:\n",
        "$$\n",
        "y = \\beta_0 + \\beta_1 x_1 + \\beta_2 x_2 + \\beta_3 x_3 + \\varepsilon\n",
        "$$\n"
      ],
      "metadata": {
        "id": "1QeRoY7lyz1i"
      }
    },
    {
      "cell_type": "markdown",
      "source": [
        "#### 2.1 Coefficient and Intecept\n",
        "\n",
        "In `sklearn`, the intercept $\\beta_0$ is stored in the model's `intercept_` attribute."
      ],
      "metadata": {
        "id": "jodcvD5GS9mM"
      }
    },
    {
      "cell_type": "code",
      "source": [],
      "metadata": {
        "id": "alTxed4t_ZL4"
      },
      "execution_count": null,
      "outputs": []
    },
    {
      "cell_type": "markdown",
      "source": [
        "Corospondingly, the coefficients (or weights) are stored in the model's `coef_` attribute"
      ],
      "metadata": {
        "id": "LHz90_CWVrIx"
      }
    },
    {
      "cell_type": "code",
      "source": [],
      "metadata": {
        "id": "YpsfUyE8_ejT"
      },
      "execution_count": null,
      "outputs": []
    },
    {
      "cell_type": "markdown",
      "source": [
        "#### 2.2 Make Predictions\n",
        "\n",
        "With the model in hand, we are able to predict the target when given a new sample."
      ],
      "metadata": {
        "id": "KbJ2Hkux_mZv"
      }
    },
    {
      "cell_type": "code",
      "source": [],
      "metadata": {
        "id": "hP5OzMV8_m7B"
      },
      "execution_count": null,
      "outputs": []
    },
    {
      "cell_type": "markdown",
      "source": [
        "#### 2.3 Evaluation using `score()`\n",
        "\n",
        "`sklearn` provides `score()` function for more efficient evaluation. The `model.score(X, y)` method performs two main steps internally:\n",
        "\n",
        "- It uses the input data `X` to generate predictions by calling the `model.predict(X)` method.\n",
        "\n",
        "- It then compares these predictions against the true labels `y` and returns a single score based on a default metric.\n",
        "\n",
        "The specific metric used depends on whether you are doing classification or regression.The function takes"
      ],
      "metadata": {
        "id": "IvWqawlXagSo"
      }
    },
    {
      "cell_type": "code",
      "source": [],
      "metadata": {
        "id": "w9NW7ZFBaoo2"
      },
      "execution_count": null,
      "outputs": []
    },
    {
      "cell_type": "markdown",
      "source": [
        "#### 2.4 Noise\n",
        "\n",
        "Data in the real world is rarely perfect and almost always contains noise. As a result, a model's predictions won't align perfectly with observed values. In fact, it's completely normal for a model to have some degree of error.\n",
        "\n",
        "The"
      ],
      "metadata": {
        "id": "zZXky-jachUe"
      }
    },
    {
      "cell_type": "code",
      "source": [],
      "metadata": {
        "id": "Ia0RTilsdK4W"
      },
      "execution_count": null,
      "outputs": []
    },
    {
      "cell_type": "markdown",
      "source": [
        "The make_regression function first generates data based on a perfect linear relationship：\n",
        "$$\n",
        "y = \\beta_0 + \\beta_1 x_1 + \\beta_2 x_2 + \\beta_3 x_3\n",
        "$$\n",
        "\n",
        "Here, vector $[\\beta_0, \\beta_1, \\beta_2, \\beta_3]$ represents the true coefficients (which can be obtained by setting the `coef` parameter to `True`). If the data were generated this way, all the points would fall perfectly on a straight line (or a hyperplane in higher dimensions).\n",
        "\n",
        "However, real-world data always has noise. The noise parameter is used to simulate this imperfection. It adds random numbers to the perfect y values, drawn from a normal distribution (also called a Gaussian distribution) with a mean of `0` and a standard deviation equal to the value you specify."
      ],
      "metadata": {
        "id": "RwLniDuOd8oz"
      }
    },
    {
      "cell_type": "markdown",
      "source": [
        "### 3. Interaction Effect\n",
        "\n",
        "An interaction effect (or simply \"interaction\") occurs when the effect of one independent variable on an outcome depends on the level or value of at least one other independent variable. In simpler terms, the variables don't work in isolation; their combined impact is different from the sum of their individual impacts."
      ],
      "metadata": {
        "id": "64YCJ-sUpLHj"
      }
    },
    {
      "cell_type": "markdown",
      "source": [
        "#### 3.1 Simple Example\n",
        "\n",
        "For example, imagine a simple coffee-based example where we have two binary features--the presence of sugar  and whether or not we have stirred-—and we want to predict if the coffee tastes sweet. Just putting sugar in the coffee (`sugar=1, stirred=0`) won't make the coffee taste sweet (all the sugar is at the bottom!) and just stirring the coffee without adding sugar (`sugar=0, stirred=1`) won't make it sweet either. Instead it is the interaction of putting sugar in the coffee and stirring the coffee (`sugar=1, stirred=1`) that will make a coffee taste sweet. The effects of sugar and stirred on sweetness are dependent on each other. In this case we say there is an interaction effect between the features sugar and stirred."
      ],
      "metadata": {
        "id": "4PFRSkLlvz_F"
      }
    },
    {
      "cell_type": "markdown",
      "source": [
        "#### 3.2 Model the Interaction Effect\n",
        "\n",
        "Now, let's generate a group of samples with higher noise. We can certainly expect the model performs poorly on the new dataset."
      ],
      "metadata": {
        "id": "WURr7xZGqZFb"
      }
    },
    {
      "cell_type": "code",
      "source": [],
      "metadata": {
        "id": "8xaS0a50qK0w"
      },
      "execution_count": null,
      "outputs": []
    },
    {
      "cell_type": "markdown",
      "source": [
        "Then we create the interaction term, as follows."
      ],
      "metadata": {
        "id": "IGVBPDUrqs2S"
      }
    },
    {
      "cell_type": "code",
      "source": [
        "from sklearn.preprocessing import PolynomialFeatures\n",
        "interaction = PolynomialFeatures(\n",
        "    degree=3, include_bias=False, interaction_only=True)"
      ],
      "metadata": {
        "id": "ZXdWPZerqykK"
      },
      "execution_count": null,
      "outputs": []
    },
    {
      "cell_type": "markdown",
      "source": [
        "The parameters of the interaction term are as follows:\n",
        "- `degree`\n",
        "This parameter defines the maximum degree of the features to be created. Here, \"degree\" refers to the total number of features multiplied together in a single term.\n",
        "\n",
        "- `interaction_only=False` (The default): This generates all feature combinations up to the specified degree, including powers of a single feature. For example, with $[x1, x2]$ and `degree=3`, it would generate $x_1$, $x_2$, $x_1^2$, $x_1\\cdot x_2$, $x_2^2$, $x_1^3$, $x_1^2\\cdot x_2$, $x_1\\cdot x_2^2$, $x_2^3$.\n",
        "- `interaction_only=True`: This generates only the products of different features (interaction terms) and will not generate powers of a single feature (like x1² or x1³). Its goal is purely to capture the \"interaction\" between features, not the non-linear relationship of a single feature with itself.\n",
        "- `include_bias=True` (The default): This adds a column of all 1s as the first feature. This 1 corresponds to the constant term (the intercept) in a polynomial equation, equivalent to x_1\n",
        "0\n",
        "- `include_bias=False`: This does not add the column of all 1s."
      ],
      "metadata": {
        "id": "Era8qOcArGOm"
      }
    },
    {
      "cell_type": "markdown",
      "source": [
        "The `.fit_transform(features)` method applies this rule to the original features."
      ],
      "metadata": {
        "id": "5qi6kUX4rEoB"
      }
    },
    {
      "cell_type": "code",
      "source": [],
      "metadata": {
        "id": "W7hP91cOuqQv"
      },
      "execution_count": null,
      "outputs": []
    },
    {
      "cell_type": "markdown",
      "source": [
        "Finally, a standard `LinearRegression` model is created and trained using the `.fit()` method. Crucially, it's trained on the enhanced feature matrix, `features_interaction`, which includes the interaction term, allowing the model to find the best coefficients for not just $x_1$ and $x_2$, but also for their product, $x_1\\cdot x_2$."
      ],
      "metadata": {
        "id": "qsTIaZ_7u0_A"
      }
    },
    {
      "cell_type": "code",
      "source": [],
      "metadata": {
        "id": "2d1L1EESu1T6"
      },
      "execution_count": null,
      "outputs": []
    },
    {
      "cell_type": "markdown",
      "source": [
        "### 4 Nonlinear Relationship\n",
        "\n",
        "Although linear relationships are highly interpretable and practical, nonlinear relationships are more prevalent in reality. Consequently, polynomial fitting often yields superior results. As the most widely used machine learning library, `scikit-learn` inherently supports polynomial fitting."
      ],
      "metadata": {
        "id": "MN0FyRHqwFv1"
      }
    },
    {
      "cell_type": "markdown",
      "source": [
        "#### 4.1 Creating Polynomial Features"
      ],
      "metadata": {
        "id": "K-yUnb4iy1TQ"
      }
    },
    {
      "cell_type": "code",
      "source": [],
      "metadata": {
        "id": "Umh9-0e-yr3T"
      },
      "execution_count": null,
      "outputs": []
    },
    {
      "cell_type": "markdown",
      "source": [
        "#### 4.2 Model Training and Evaluation"
      ],
      "metadata": {
        "id": "mW_xUZK9y7Oi"
      }
    },
    {
      "cell_type": "code",
      "source": [],
      "metadata": {
        "id": "Tt59OKqMy8IU"
      },
      "execution_count": null,
      "outputs": []
    },
    {
      "cell_type": "markdown",
      "source": [
        "### 5. Standardization, Normalization, and Regularization\n",
        "\n",
        "Standardization, Normalization, and Regularization are three concepts in machine learning that are often easily confused. In this context, we will briefly discuss regularization through the lens of the linear regression problem."
      ],
      "metadata": {
        "id": "uwGBJ8nnzkAZ"
      }
    },
    {
      "cell_type": "markdown",
      "source": [
        "#### 5.1 Standardization\n",
        "\n",
        "`sklearn` provides strong support for data preprocessing. For standardization, the `StandardScaler` is quite convinient. First, let's generate the dataset.\n"
      ],
      "metadata": {
        "id": "XWXqp9lHBY6t"
      }
    },
    {
      "cell_type": "code",
      "source": [],
      "metadata": {
        "id": "fOBF4B74fZEw"
      },
      "execution_count": null,
      "outputs": []
    },
    {
      "cell_type": "markdown",
      "source": [
        "Then, we can perform standarization on the generated data."
      ],
      "metadata": {
        "id": "ZTmlz7dohRat"
      }
    },
    {
      "cell_type": "code",
      "source": [],
      "metadata": {
        "id": "PcGqPRjkfkQW"
      },
      "execution_count": null,
      "outputs": []
    },
    {
      "cell_type": "markdown",
      "source": [
        "You will notice that after standarization, the variables in the data follows normal distribution."
      ],
      "metadata": {
        "id": "aFrVDouXhaP3"
      }
    },
    {
      "cell_type": "markdown",
      "source": [
        "#### 5.2 Ridge Regression\n",
        "\n",
        "The idea of regularization is to add a penalty to the original loss function. For a brief understanding, we present the loss function of linear regression.  The standard loss function for linear regression is the Mean Squared Error (MSE). The loss reflects the average squared difference between the model's predictions and the actual data.\n",
        "\n",
        "$$\n",
        "J(\\theta) = \\frac{1}{2n}Σ_{i=1}^n(y_i -\\hat{y_i})^2\n",
        "$$\n",
        "\n",
        "If you don't take the average of the loss, you will get the residual sum of squares (RSS).\n",
        "$$\n",
        "RSS = Σ_{i=1}^n(y_i -\\hat{y_i})^2\n",
        "$$"
      ],
      "metadata": {
        "id": "TgA1P6t8hl-C"
      }
    },
    {
      "cell_type": "markdown",
      "source": [
        "The `ridge` regression adds a penalty that is is a tuning hyperparameter multiplied by the squared sum of all coefficients to the loss function, as follows:\n",
        "$$\n",
        "J(\\theta) = \\frac{1}{2n}Σ_{i=1}^n(y_i -\\hat{y_i})^2 + \\lambda\\Sigma_{j=1}^n\\hat{\\beta_j}^2\n",
        "$$"
      ],
      "metadata": {
        "id": "gri9qg0mj09C"
      }
    },
    {
      "cell_type": "code",
      "source": [],
      "metadata": {
        "id": "o-UPFW_-zBVX"
      },
      "execution_count": null,
      "outputs": []
    },
    {
      "cell_type": "markdown",
      "source": [
        "#### 5.3 Lasso Regression\n",
        "\n",
        "Lasso regression, on the other hand, add L1 regularization to the loss, which lead to:\n",
        "$$\n",
        "J(\\theta) = \\frac{1}{2n}Σ_{i=1}^n(y_i -\\hat{y_i})^2 + \\lambda\\Sigma_{j=1}^n|\\hat{\\beta_j}|\n",
        "$$"
      ],
      "metadata": {
        "id": "DfB8TFYpzXen"
      }
    },
    {
      "cell_type": "code",
      "source": [],
      "metadata": {
        "id": "oFyT5Hu_8fKR"
      },
      "execution_count": null,
      "outputs": []
    },
    {
      "cell_type": "markdown",
      "source": [
        "Ridge (L2 regularization) and Lasso (L1 regularization) yield distinct outcomes. Intuitively, ridge regression does not force coefficients to be exactly zero, but rather shrinks the magnitude of each coefficient. In contrast, lasso regression performs a function analogous to feature selection by setting the coefficients of irrelevant features to zero."
      ],
      "metadata": {
        "id": "Pts94Bj_8orU"
      }
    },
    {
      "cell_type": "code",
      "source": [],
      "metadata": {
        "id": "yFsI8_nG97zZ"
      },
      "execution_count": null,
      "outputs": []
    }
  ],
  "metadata": {
    "kernelspec": {
      "display_name": "Python [conda env:machine_learning_cookbook]",
      "language": "python",
      "name": "conda-env-machine_learning_cookbook-py"
    },
    "language_info": {
      "codemirror_mode": {
        "name": "ipython",
        "version": 3
      },
      "file_extension": ".py",
      "mimetype": "text/x-python",
      "name": "python",
      "nbconvert_exporter": "python",
      "pygments_lexer": "ipython3",
      "version": "3.6.6"
    },
    "colab": {
      "provenance": [],
      "toc_visible": true
    }
  },
  "nbformat": 4,
  "nbformat_minor": 0
}