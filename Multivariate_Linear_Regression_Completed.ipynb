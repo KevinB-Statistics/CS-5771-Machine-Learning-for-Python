{
  "cells": [
    {
      "cell_type": "markdown",
      "metadata": {
        "id": "BL8icERDgkL3"
      },
      "source": [
        "## Python For Machine Learning Fall 2025\n",
        "---\n",
        "# Multivariate Linear Regression"
      ]
    },
    {
      "cell_type": "markdown",
      "metadata": {
        "id": "X2t5YARenRA7"
      },
      "source": [
        "## Numpy for Multivariate Linear Regression\n",
        "\n",
        "NumPy is a powerful library for numerical operations in Python. Its main feature is the `ndarray`, a multi-dimensional array object that is highly efficient for performing mathematical calculations. In machine learning, we'll use NumPy to handle our data, which is often represented as matrices and vectors."
      ]
    },
    {
      "cell_type": "code",
      "execution_count": 1,
      "metadata": {
        "id": "FQReTOLABKG1"
      },
      "outputs": [],
      "source": [
        "import numpy as np"
      ]
    },
    {
      "cell_type": "markdown",
      "metadata": {
        "id": "BoJIaVhFBSau"
      },
      "source": [
        "The most straightforward way to create a NumPy array is to pass a Python list or tuple to the `np.array()` function. This is especially useful for creating arrays with specific initial values. Create a 1D array (vector)"
      ]
    },
    {
      "cell_type": "code",
      "execution_count": 2,
      "metadata": {
        "colab": {
          "base_uri": "https://localhost:8080/"
        },
        "id": "BSgb1DZwBU-M",
        "outputId": "c59be77b-32c8-4a31-f57f-b02f5ce4041d"
      },
      "outputs": [
        {
          "name": "stdout",
          "output_type": "stream",
          "text": [
            "Vector: [1 2 3]\n",
            "Shape: (3,)\n"
          ]
        }
      ],
      "source": [
        "a = np.array([1, 2, 3])\n",
        "print(\"Vector:\", a)\n",
        "print(\"Shape:\", a.shape)"
      ]
    },
    {
      "cell_type": "markdown",
      "metadata": {
        "id": "H0iCKhL6BWhk"
      },
      "source": [
        "To create a multi-dimensional array, pass a nested list or tuple."
      ]
    },
    {
      "cell_type": "code",
      "execution_count": 3,
      "metadata": {
        "colab": {
          "base_uri": "https://localhost:8080/"
        },
        "id": "KdYxgEKyBYdh",
        "outputId": "5e47ff91-d57c-4020-ba7a-ebf4201fdd00"
      },
      "outputs": [
        {
          "name": "stdout",
          "output_type": "stream",
          "text": [
            "\n",
            "Matrix:\n",
            " [[1 2 3]\n",
            " [4 5 6]]\n",
            "Shape: (2, 3)\n"
          ]
        }
      ],
      "source": [
        "b = np.array([[1, 2, 3], [4, 5, 6]])\n",
        "print(\"\\nMatrix:\\n\", b)\n",
        "print(\"Shape:\", b.shape)"
      ]
    },
    {
      "cell_type": "markdown",
      "metadata": {
        "id": "mcyb6FzNCumJ"
      },
      "source": [
        "NumPy provides several functions for creating arrays with placeholder or structured data. These are more efficient than creating Python lists first, especially for large arrays.\n",
        "\n",
        "`np.zeros()`: Creates an array filled with zeros. You must specify the shape."
      ]
    },
    {
      "cell_type": "code",
      "execution_count": 4,
      "metadata": {
        "colab": {
          "base_uri": "https://localhost:8080/"
        },
        "id": "Lh3J7fGcCwTS",
        "outputId": "66503c6b-29c3-41a1-c410-e698c55186b1"
      },
      "outputs": [
        {
          "name": "stdout",
          "output_type": "stream",
          "text": [
            "\n",
            "Populated array:\n",
            " [[ 0 10  0  0]\n",
            " [ 0  0  0  0]\n",
            " [ 0  0  0 20]]\n"
          ]
        }
      ],
      "source": [
        "placeholder_array = np.zeros((3, 4), dtype=int)\n",
        "\n",
        "placeholder_array[0, 1] = 10\n",
        "placeholder_array[2, 3] = 20\n",
        "print(\"\\nPopulated array:\\n\", placeholder_array)"
      ]
    },
    {
      "cell_type": "markdown",
      "metadata": {
        "id": "WfFq81VMVXAs"
      },
      "source": [
        "`np.ones()`: Creates an array filled with ones."
      ]
    },
    {
      "cell_type": "code",
      "execution_count": 5,
      "metadata": {
        "colab": {
          "base_uri": "https://localhost:8080/"
        },
        "id": "wJu0VkLsDJx2",
        "outputId": "d0b5412c-6d53-4559-fe3d-1ec933778e07"
      },
      "outputs": [
        {
          "name": "stdout",
          "output_type": "stream",
          "text": [
            "Placeholder array of ones:\n",
            " [[1. 1. 1.]\n",
            " [1. 1. 1.]]\n"
          ]
        }
      ],
      "source": [
        "placeholder_array_ones = np.ones((2, 3), dtype=float)\n",
        "print(\"Placeholder array of ones:\\n\", placeholder_array_ones)"
      ]
    },
    {
      "cell_type": "markdown",
      "metadata": {
        "id": "ARlRnAWkV7Ra"
      },
      "source": [
        "`np.full()`: Creates an array of a given shape filled with a specified value."
      ]
    },
    {
      "cell_type": "markdown",
      "metadata": {
        "id": "JVk7CrloDaRS"
      },
      "source": [
        "`np.eye()`: Creates a 2-D identity matrix, which has ones on the main diagonal and zeros elsewhere."
      ]
    },
    {
      "cell_type": "code",
      "execution_count": 6,
      "metadata": {
        "colab": {
          "base_uri": "https://localhost:8080/"
        },
        "id": "osEtTt-mD4rM",
        "outputId": "63b28f14-0eba-4f4c-9fa1-89c3b23aba09"
      },
      "outputs": [
        {
          "name": "stdout",
          "output_type": "stream",
          "text": [
            "[[1. 0. 0.]\n",
            " [0. 1. 0.]\n",
            " [0. 0. 1.]]\n"
          ]
        }
      ],
      "source": [
        "identity_matrix = np.eye(3)\n",
        "print(identity_matrix)"
      ]
    },
    {
      "cell_type": "markdown",
      "metadata": {
        "id": "uj4-mseMXBHL"
      },
      "source": [
        "`np.identity(n)`: Used only for creating a square identity matrix."
      ]
    },
    {
      "cell_type": "code",
      "execution_count": 7,
      "metadata": {
        "colab": {
          "base_uri": "https://localhost:8080/"
        },
        "id": "BMWOeMLjD_UY",
        "outputId": "d829eecf-5c75-4359-a676-e8d898744ec3"
      },
      "outputs": [
        {
          "name": "stdout",
          "output_type": "stream",
          "text": [
            "[[1. 0. 0.]\n",
            " [0. 1. 0.]\n",
            " [0. 0. 1.]]\n"
          ]
        }
      ],
      "source": [
        "identity_matrix_2 = np.identity(3)\n",
        "print(identity_matrix_2)"
      ]
    },
    {
      "cell_type": "markdown",
      "metadata": {
        "id": "FrUEKHzVW6g9"
      },
      "source": [
        "np.diag() is a NumPy function that either extracts a diagonal from a 2D array or creates a 2D diagonal array from a 1D array."
      ]
    },
    {
      "cell_type": "code",
      "execution_count": 8,
      "metadata": {
        "colab": {
          "base_uri": "https://localhost:8080/"
        },
        "id": "2wgQxjy2EEWY",
        "outputId": "f296feae-c4c4-4843-910c-4766c98080f5"
      },
      "outputs": [
        {
          "name": "stdout",
          "output_type": "stream",
          "text": [
            "[[1 0 0]\n",
            " [0 1 0]\n",
            " [0 0 1]]\n"
          ]
        }
      ],
      "source": [
        "identity_matrix_3 = np.diag([1, 1, 1])\n",
        "print(identity_matrix_3)"
      ]
    },
    {
      "cell_type": "markdown",
      "metadata": {
        "id": "tM_CrBiiEKmm"
      },
      "source": [
        "There are three common ways to transpose a NumPy matrix.\n",
        "\n",
        "`.T` attribute"
      ]
    },
    {
      "cell_type": "code",
      "execution_count": 9,
      "metadata": {
        "colab": {
          "base_uri": "https://localhost:8080/"
        },
        "id": "9DOqcSDUElRe",
        "outputId": "2ad25bba-2ff8-470a-fcff-8e6d6c73118a"
      },
      "outputs": [
        {
          "name": "stdout",
          "output_type": "stream",
          "text": [
            "[[1 4]\n",
            " [2 5]\n",
            " [3 6]]\n"
          ]
        }
      ],
      "source": [
        "identity_matrix_T = np.array([[1, 2, 3], [4, 5, 6]]).T\n",
        "print(identity_matrix_T)"
      ]
    },
    {
      "cell_type": "markdown",
      "metadata": {
        "id": "P-rQfDEqXkRR"
      },
      "source": [
        "`.transpose()` method"
      ]
    },
    {
      "cell_type": "code",
      "execution_count": 10,
      "metadata": {
        "colab": {
          "base_uri": "https://localhost:8080/"
        },
        "id": "XiaiNd4QXnns",
        "outputId": "259cac57-b724-4b49-828e-1393accc12ca"
      },
      "outputs": [
        {
          "name": "stdout",
          "output_type": "stream",
          "text": [
            "[[1 4]\n",
            " [2 5]\n",
            " [3 6]]\n"
          ]
        }
      ],
      "source": [
        "identity_matrix_T = np.array([[1, 2, 3], [4, 5, 6]]).transpose()\n",
        "print(identity_matrix_T)"
      ]
    },
    {
      "cell_type": "markdown",
      "metadata": {
        "id": "McF2BtAwXcS6"
      },
      "source": [
        "`np.transpose()` function"
      ]
    },
    {
      "cell_type": "code",
      "execution_count": 11,
      "metadata": {
        "colab": {
          "base_uri": "https://localhost:8080/"
        },
        "id": "r4e-1HkoEsPr",
        "outputId": "13bad41e-aa6a-4b19-f9d9-c13c22ac8962"
      },
      "outputs": [
        {
          "name": "stdout",
          "output_type": "stream",
          "text": [
            "[[1 4]\n",
            " [2 5]\n",
            " [3 6]]\n"
          ]
        }
      ],
      "source": [
        "transposed = np.transpose(np.array([[1, 2, 3], [4, 5, 6]]))\n",
        "print(transposed)"
      ]
    },
    {
      "cell_type": "markdown",
      "metadata": {
        "id": "pY5VGHFlFIIp"
      },
      "source": [
        "`np.linalg.inv()` is a NumPy function used to calculate the multiplicative inverse of a matrix."
      ]
    },
    {
      "cell_type": "code",
      "execution_count": 12,
      "metadata": {
        "colab": {
          "base_uri": "https://localhost:8080/"
        },
        "id": "_K2xGuzIFQGI",
        "outputId": "08b7eb10-10dc-435f-f7b9-5f56294e737a"
      },
      "outputs": [
        {
          "name": "stdout",
          "output_type": "stream",
          "text": [
            "[[-2.   1. ]\n",
            " [ 1.5 -0.5]]\n"
          ]
        }
      ],
      "source": [
        "m = np.array([[1, 2],[3, 4]])\n",
        "inverse_m = np.linalg.inv(m)\n",
        "print(inverse_m)"
      ]
    },
    {
      "cell_type": "markdown",
      "metadata": {
        "id": "qD4MQsgSFk55"
      },
      "source": [
        "In Numpy, you can perform matrix multiplication using either the `@` operator or the `np.matmul()` function."
      ]
    },
    {
      "cell_type": "code",
      "execution_count": 13,
      "metadata": {
        "colab": {
          "base_uri": "https://localhost:8080/"
        },
        "id": "DLN8R28_FvH8",
        "outputId": "199714ce-0b7b-4382-c326-5c6f3f86cffb"
      },
      "outputs": [
        {
          "name": "stdout",
          "output_type": "stream",
          "text": [
            "[[1.0000000e+00 0.0000000e+00]\n",
            " [8.8817842e-16 1.0000000e+00]]\n"
          ]
        }
      ],
      "source": [
        "result = np.matmul(m, inverse_m)\n",
        "print(result)"
      ]
    },
    {
      "cell_type": "code",
      "execution_count": 14,
      "metadata": {
        "colab": {
          "base_uri": "https://localhost:8080/"
        },
        "id": "zYH5OelNIlgW",
        "outputId": "7671d0ba-2c01-4589-cf24-d2a9c384b9f6"
      },
      "outputs": [
        {
          "name": "stdout",
          "output_type": "stream",
          "text": [
            "[[1.0000000e+00 0.0000000e+00]\n",
            " [8.8817842e-16 1.0000000e+00]]\n"
          ]
        }
      ],
      "source": [
        "result = m @ inverse_m\n",
        "print(result)"
      ]
    },
    {
      "cell_type": "markdown",
      "metadata": {
        "id": "16TtBn1YHHnz"
      },
      "source": [
        "In Numpy, you can perform element-wise multiplication using the operator * or the np.multiply() function."
      ]
    },
    {
      "cell_type": "code",
      "execution_count": 15,
      "metadata": {
        "colab": {
          "base_uri": "https://localhost:8080/"
        },
        "id": "IAbCpLX2HMPB",
        "outputId": "4e64c989-3d36-4ac5-85a7-dc71f82bae67"
      },
      "outputs": [
        {
          "name": "stdout",
          "output_type": "stream",
          "text": [
            "[[-2.   2. ]\n",
            " [ 4.5 -2. ]]\n"
          ]
        }
      ],
      "source": [
        "result = np.multiply(m, inverse_m)\n",
        "print(result)"
      ]
    },
    {
      "cell_type": "code",
      "execution_count": 16,
      "metadata": {
        "colab": {
          "base_uri": "https://localhost:8080/"
        },
        "id": "7DvFPnO9IvbW",
        "outputId": "8c1a8b83-cd1f-401f-98b7-af3ac40473f2"
      },
      "outputs": [
        {
          "name": "stdout",
          "output_type": "stream",
          "text": [
            "[[-2.   2. ]\n",
            " [ 4.5 -2. ]]\n"
          ]
        }
      ],
      "source": [
        "result = m * inverse_m\n",
        "print(result)"
      ]
    },
    {
      "cell_type": "markdown",
      "metadata": {
        "id": "66gfEcS15Zzg"
      },
      "source": [
        "`np.concatenate()` function or its convinient object `np.c_` can concatenate two or more Numpy arrays."
      ]
    },
    {
      "cell_type": "code",
      "execution_count": 17,
      "metadata": {
        "id": "PJUviA715rRw"
      },
      "outputs": [],
      "source": [
        "arr1 = np.array([1, 2, 3])\n",
        "arr2 = np.array([4, 5, 6])\n",
        "\n",
        "result = np.concatenate((arr1, arr2))"
      ]
    },
    {
      "cell_type": "markdown",
      "metadata": {
        "id": "ZfvS_N9FZVNh"
      },
      "source": [
        "For 2D arrays, you must specify the `axis` to control whether the arrays are stacked vertically (along rows) or horizontally (along columns)."
      ]
    },
    {
      "cell_type": "code",
      "execution_count": 18,
      "metadata": {
        "id": "M2MLDf_MZaC0"
      },
      "outputs": [],
      "source": [
        "arr1 = np.array([[1, 2], [3, 4]])\n",
        "arr2 = np.array([[5, 6], [7, 8]])\n",
        "\n",
        "result = np.concatenate((arr1, arr2), axis=0)"
      ]
    },
    {
      "cell_type": "markdown",
      "metadata": {
        "id": "F-CMQaLz6nnp"
      },
      "source": [
        "For an Numpy array, method `.reshape()` returns a new array with the same data but a different shape."
      ]
    },
    {
      "cell_type": "code",
      "execution_count": 19,
      "metadata": {
        "colab": {
          "base_uri": "https://localhost:8080/"
        },
        "id": "qIq1juKvZ57c",
        "outputId": "0b61114d-b373-46df-afc1-52f4aae91462"
      },
      "outputs": [
        {
          "data": {
            "text/plain": [
              "array([[1, 2, 3, 4]])"
            ]
          },
          "execution_count": 19,
          "metadata": {},
          "output_type": "execute_result"
        }
      ],
      "source": [
        "arr1 = np.array([[1, 2], [3, 4]])\n",
        "arr1.reshape(1, 4)"
      ]
    },
    {
      "cell_type": "markdown",
      "metadata": {
        "id": "1-QTnEmeaGbd"
      },
      "source": [
        "A very useful feature of .reshape() is the use of -1 as a placeholder. This tells NumPy to automatically calculate the dimension for that axis based on the total number of elements and the other dimensions you've specified."
      ]
    },
    {
      "cell_type": "code",
      "execution_count": 20,
      "metadata": {
        "colab": {
          "base_uri": "https://localhost:8080/"
        },
        "id": "Z1ynQ7TGaHTx",
        "outputId": "fdd73714-7358-4a82-bc03-6cd1fbe49107"
      },
      "outputs": [
        {
          "name": "stdout",
          "output_type": "stream",
          "text": [
            "[[1]\n",
            " [2]\n",
            " [3]\n",
            " [4]]\n",
            "[[1 2 3 4]]\n"
          ]
        }
      ],
      "source": [
        "arr1 = np.array([[1, 2], [3, 4]])\n",
        "print(arr1.reshape(-1, 1))\n",
        "print(arr1.reshape(1, -1))"
      ]
    },
    {
      "cell_type": "markdown",
      "metadata": {
        "id": "MceASpIoI0nt"
      },
      "source": [
        "Now we have everything we need to finish the calculation fo multivariable linear regression."
      ]
    },
    {
      "cell_type": "markdown",
      "metadata": {
        "id": "vV_G4jOAgqgi"
      },
      "source": [
        "## From univariate to Multivariate Linear Regression\n",
        "\n",
        "Recall that univariate linear regression uses a single feature to predict a target variable, described by the equation:\n",
        "\n",
        "$$\n",
        "y = m x + b\n",
        "$$\n",
        "\n",
        "But what happens when the target is influenced by multiple factors? We extend our model to **Multiple Linear Regression**, the single output version of **Multivariate linear regression**, where the equation becomes:\n",
        "\n",
        "$$\n",
        "y = \\theta_0 + \\theta_1 x_1 + \\theta_2 x_2 + \\dots + \\theta_n x_n\n",
        "$$\n",
        "\n",
        "Here, $y$ is the target value, $\\theta_0$ is the intercept, and $\\theta_1, \\dots, \\theta_n$ are the coefficients (weights) for each feature $x_1, \\dots, x_n$."
      ]
    },
    {
      "cell_type": "markdown",
      "metadata": {
        "id": "DM_WYFDLng_B"
      },
      "source": [
        "### Agreement on Symbols\n",
        "\n",
        "To prevent confusion, we need to establish more precise symbol conventions, which is different from how we handle single-variable situations.\n",
        "\n",
        "- We represent scalars with lowercase letters or Greek letters, such as $t$ or $\\alpha$.\n",
        "- Use bold, lowercase letters or bold Greek letters for vectors, like $\\mathbf{x}$. Their elements are written as $x_i$. Note that a bold lowercase letter with a subscript, such as $\\mathbf{x_1}$ and $\\mathbf{x_2}$, represents two different constant vectors. By default, vectors are column vectors; a row vector is a transpose of a column vector, written as $\\mathbf{x^T}$.\n",
        "- Matrices are represented by capital letters such as $A$ and $\\Sigma$. Their elements are shown with lowercase letters, such as $a_{ij}$. Capital letters with subscripts, like $A_1$ and $A_2$, indicate different constant matrices."
      ]
    },
    {
      "cell_type": "markdown",
      "metadata": {
        "id": "nOeptiSxg9C-"
      },
      "source": [
        "## The Matrix Form\n",
        "\n",
        "Multiple linear regression has vectors as samples and the weights are also vectors. To handle the more complex model, the more compact **matrix form** is a better way.\n",
        "\n",
        "Let's define our matrices:\n",
        "\n",
        "-   **Feature Matrix $X$:** An $m \\times (n+1)$ matrix where $m$ is the number of training examples and $n$ is the number of features. We add a column of ones for the intercept term $\\theta_0$.\n",
        "-   **Coefficient Vector $\\theta$:** A vector of size $(n+1) \\times 1$ containing all the coefficients, including the intercept.\n",
        "-   **Target Vector $y$:** An $m \\times 1$ vector of the target values.\n",
        "\n",
        "The prediction can then be calculated as a dot product:\n",
        "\n",
        "$$\n",
        "\\hat{y} = X \\theta\n",
        "$$"
      ]
    },
    {
      "cell_type": "markdown",
      "metadata": {
        "id": "l2immvczI_VT"
      },
      "source": [
        "## Data Preparation"
      ]
    },
    {
      "cell_type": "markdown",
      "metadata": {
        "id": "s4Pm_5hH5s10"
      },
      "source": [
        "We will use a typical house price prediction model for this experiment. https://scikit-learn.org/stable/modules/generated/sklearn.datasets.fetch_california_housing.html"
      ]
    },
    {
      "cell_type": "code",
      "execution_count": 21,
      "metadata": {
        "colab": {
          "base_uri": "https://localhost:8080/"
        },
        "id": "NMhDgyyY6TZ9",
        "outputId": "5f3e91b7-14f8-4bac-f1d3-c8e81077bfee"
      },
      "outputs": [
        {
          "name": "stderr",
          "output_type": "stream",
          "text": [
            "/Users/kevinbui/ml_env/lib/python3.10/site-packages/sklearn/datasets/_base.py:1518: UserWarning: Retry downloading from url: https://ndownloader.figshare.com/files/5976036\n",
            "  warnings.warn(f\"Retry downloading from url: {remote.url}\")\n"
          ]
        },
        {
          "ename": "URLError",
          "evalue": "<urlopen error [SSL: CERTIFICATE_VERIFY_FAILED] certificate verify failed: unable to get local issuer certificate (_ssl.c:1007)>",
          "output_type": "error",
          "traceback": [
            "\u001b[0;31m---------------------------------------------------------------------------\u001b[0m",
            "\u001b[0;31mSSLCertVerificationError\u001b[0m                  Traceback (most recent call last)",
            "File \u001b[0;32m/Library/Frameworks/Python.framework/Versions/3.10/lib/python3.10/urllib/request.py:1348\u001b[0m, in \u001b[0;36mAbstractHTTPHandler.do_open\u001b[0;34m(self, http_class, req, **http_conn_args)\u001b[0m\n\u001b[1;32m   1347\u001b[0m \u001b[38;5;28;01mtry\u001b[39;00m:\n\u001b[0;32m-> 1348\u001b[0m     \u001b[43mh\u001b[49m\u001b[38;5;241;43m.\u001b[39;49m\u001b[43mrequest\u001b[49m\u001b[43m(\u001b[49m\u001b[43mreq\u001b[49m\u001b[38;5;241;43m.\u001b[39;49m\u001b[43mget_method\u001b[49m\u001b[43m(\u001b[49m\u001b[43m)\u001b[49m\u001b[43m,\u001b[49m\u001b[43m \u001b[49m\u001b[43mreq\u001b[49m\u001b[38;5;241;43m.\u001b[39;49m\u001b[43mselector\u001b[49m\u001b[43m,\u001b[49m\u001b[43m \u001b[49m\u001b[43mreq\u001b[49m\u001b[38;5;241;43m.\u001b[39;49m\u001b[43mdata\u001b[49m\u001b[43m,\u001b[49m\u001b[43m \u001b[49m\u001b[43mheaders\u001b[49m\u001b[43m,\u001b[49m\n\u001b[1;32m   1349\u001b[0m \u001b[43m              \u001b[49m\u001b[43mencode_chunked\u001b[49m\u001b[38;5;241;43m=\u001b[39;49m\u001b[43mreq\u001b[49m\u001b[38;5;241;43m.\u001b[39;49m\u001b[43mhas_header\u001b[49m\u001b[43m(\u001b[49m\u001b[38;5;124;43m'\u001b[39;49m\u001b[38;5;124;43mTransfer-encoding\u001b[39;49m\u001b[38;5;124;43m'\u001b[39;49m\u001b[43m)\u001b[49m\u001b[43m)\u001b[49m\n\u001b[1;32m   1350\u001b[0m \u001b[38;5;28;01mexcept\u001b[39;00m \u001b[38;5;167;01mOSError\u001b[39;00m \u001b[38;5;28;01mas\u001b[39;00m err: \u001b[38;5;66;03m# timeout error\u001b[39;00m\n",
            "File \u001b[0;32m/Library/Frameworks/Python.framework/Versions/3.10/lib/python3.10/http/client.py:1283\u001b[0m, in \u001b[0;36mHTTPConnection.request\u001b[0;34m(self, method, url, body, headers, encode_chunked)\u001b[0m\n\u001b[1;32m   1282\u001b[0m \u001b[38;5;250m\u001b[39m\u001b[38;5;124;03m\"\"\"Send a complete request to the server.\"\"\"\u001b[39;00m\n\u001b[0;32m-> 1283\u001b[0m \u001b[38;5;28;43mself\u001b[39;49m\u001b[38;5;241;43m.\u001b[39;49m\u001b[43m_send_request\u001b[49m\u001b[43m(\u001b[49m\u001b[43mmethod\u001b[49m\u001b[43m,\u001b[49m\u001b[43m \u001b[49m\u001b[43murl\u001b[49m\u001b[43m,\u001b[49m\u001b[43m \u001b[49m\u001b[43mbody\u001b[49m\u001b[43m,\u001b[49m\u001b[43m \u001b[49m\u001b[43mheaders\u001b[49m\u001b[43m,\u001b[49m\u001b[43m \u001b[49m\u001b[43mencode_chunked\u001b[49m\u001b[43m)\u001b[49m\n",
            "File \u001b[0;32m/Library/Frameworks/Python.framework/Versions/3.10/lib/python3.10/http/client.py:1329\u001b[0m, in \u001b[0;36mHTTPConnection._send_request\u001b[0;34m(self, method, url, body, headers, encode_chunked)\u001b[0m\n\u001b[1;32m   1328\u001b[0m     body \u001b[38;5;241m=\u001b[39m _encode(body, \u001b[38;5;124m'\u001b[39m\u001b[38;5;124mbody\u001b[39m\u001b[38;5;124m'\u001b[39m)\n\u001b[0;32m-> 1329\u001b[0m \u001b[38;5;28;43mself\u001b[39;49m\u001b[38;5;241;43m.\u001b[39;49m\u001b[43mendheaders\u001b[49m\u001b[43m(\u001b[49m\u001b[43mbody\u001b[49m\u001b[43m,\u001b[49m\u001b[43m \u001b[49m\u001b[43mencode_chunked\u001b[49m\u001b[38;5;241;43m=\u001b[39;49m\u001b[43mencode_chunked\u001b[49m\u001b[43m)\u001b[49m\n",
            "File \u001b[0;32m/Library/Frameworks/Python.framework/Versions/3.10/lib/python3.10/http/client.py:1278\u001b[0m, in \u001b[0;36mHTTPConnection.endheaders\u001b[0;34m(self, message_body, encode_chunked)\u001b[0m\n\u001b[1;32m   1277\u001b[0m     \u001b[38;5;28;01mraise\u001b[39;00m CannotSendHeader()\n\u001b[0;32m-> 1278\u001b[0m \u001b[38;5;28;43mself\u001b[39;49m\u001b[38;5;241;43m.\u001b[39;49m\u001b[43m_send_output\u001b[49m\u001b[43m(\u001b[49m\u001b[43mmessage_body\u001b[49m\u001b[43m,\u001b[49m\u001b[43m \u001b[49m\u001b[43mencode_chunked\u001b[49m\u001b[38;5;241;43m=\u001b[39;49m\u001b[43mencode_chunked\u001b[49m\u001b[43m)\u001b[49m\n",
            "File \u001b[0;32m/Library/Frameworks/Python.framework/Versions/3.10/lib/python3.10/http/client.py:1038\u001b[0m, in \u001b[0;36mHTTPConnection._send_output\u001b[0;34m(self, message_body, encode_chunked)\u001b[0m\n\u001b[1;32m   1037\u001b[0m \u001b[38;5;28;01mdel\u001b[39;00m \u001b[38;5;28mself\u001b[39m\u001b[38;5;241m.\u001b[39m_buffer[:]\n\u001b[0;32m-> 1038\u001b[0m \u001b[38;5;28;43mself\u001b[39;49m\u001b[38;5;241;43m.\u001b[39;49m\u001b[43msend\u001b[49m\u001b[43m(\u001b[49m\u001b[43mmsg\u001b[49m\u001b[43m)\u001b[49m\n\u001b[1;32m   1040\u001b[0m \u001b[38;5;28;01mif\u001b[39;00m message_body \u001b[38;5;129;01mis\u001b[39;00m \u001b[38;5;129;01mnot\u001b[39;00m \u001b[38;5;28;01mNone\u001b[39;00m:\n\u001b[1;32m   1041\u001b[0m \n\u001b[1;32m   1042\u001b[0m     \u001b[38;5;66;03m# create a consistent interface to message_body\u001b[39;00m\n",
            "File \u001b[0;32m/Library/Frameworks/Python.framework/Versions/3.10/lib/python3.10/http/client.py:976\u001b[0m, in \u001b[0;36mHTTPConnection.send\u001b[0;34m(self, data)\u001b[0m\n\u001b[1;32m    975\u001b[0m \u001b[38;5;28;01mif\u001b[39;00m \u001b[38;5;28mself\u001b[39m\u001b[38;5;241m.\u001b[39mauto_open:\n\u001b[0;32m--> 976\u001b[0m     \u001b[38;5;28;43mself\u001b[39;49m\u001b[38;5;241;43m.\u001b[39;49m\u001b[43mconnect\u001b[49m\u001b[43m(\u001b[49m\u001b[43m)\u001b[49m\n\u001b[1;32m    977\u001b[0m \u001b[38;5;28;01melse\u001b[39;00m:\n",
            "File \u001b[0;32m/Library/Frameworks/Python.framework/Versions/3.10/lib/python3.10/http/client.py:1455\u001b[0m, in \u001b[0;36mHTTPSConnection.connect\u001b[0;34m(self)\u001b[0m\n\u001b[1;32m   1453\u001b[0m     server_hostname \u001b[38;5;241m=\u001b[39m \u001b[38;5;28mself\u001b[39m\u001b[38;5;241m.\u001b[39mhost\n\u001b[0;32m-> 1455\u001b[0m \u001b[38;5;28mself\u001b[39m\u001b[38;5;241m.\u001b[39msock \u001b[38;5;241m=\u001b[39m \u001b[38;5;28;43mself\u001b[39;49m\u001b[38;5;241;43m.\u001b[39;49m\u001b[43m_context\u001b[49m\u001b[38;5;241;43m.\u001b[39;49m\u001b[43mwrap_socket\u001b[49m\u001b[43m(\u001b[49m\u001b[38;5;28;43mself\u001b[39;49m\u001b[38;5;241;43m.\u001b[39;49m\u001b[43msock\u001b[49m\u001b[43m,\u001b[49m\n\u001b[1;32m   1456\u001b[0m \u001b[43m                                      \u001b[49m\u001b[43mserver_hostname\u001b[49m\u001b[38;5;241;43m=\u001b[39;49m\u001b[43mserver_hostname\u001b[49m\u001b[43m)\u001b[49m\n",
            "File \u001b[0;32m/Library/Frameworks/Python.framework/Versions/3.10/lib/python3.10/ssl.py:513\u001b[0m, in \u001b[0;36mSSLContext.wrap_socket\u001b[0;34m(self, sock, server_side, do_handshake_on_connect, suppress_ragged_eofs, server_hostname, session)\u001b[0m\n\u001b[1;32m    507\u001b[0m \u001b[38;5;28;01mdef\u001b[39;00m\u001b[38;5;250m \u001b[39m\u001b[38;5;21mwrap_socket\u001b[39m(\u001b[38;5;28mself\u001b[39m, sock, server_side\u001b[38;5;241m=\u001b[39m\u001b[38;5;28;01mFalse\u001b[39;00m,\n\u001b[1;32m    508\u001b[0m                 do_handshake_on_connect\u001b[38;5;241m=\u001b[39m\u001b[38;5;28;01mTrue\u001b[39;00m,\n\u001b[1;32m    509\u001b[0m                 suppress_ragged_eofs\u001b[38;5;241m=\u001b[39m\u001b[38;5;28;01mTrue\u001b[39;00m,\n\u001b[1;32m    510\u001b[0m                 server_hostname\u001b[38;5;241m=\u001b[39m\u001b[38;5;28;01mNone\u001b[39;00m, session\u001b[38;5;241m=\u001b[39m\u001b[38;5;28;01mNone\u001b[39;00m):\n\u001b[1;32m    511\u001b[0m     \u001b[38;5;66;03m# SSLSocket class handles server_hostname encoding before it calls\u001b[39;00m\n\u001b[1;32m    512\u001b[0m     \u001b[38;5;66;03m# ctx._wrap_socket()\u001b[39;00m\n\u001b[0;32m--> 513\u001b[0m     \u001b[38;5;28;01mreturn\u001b[39;00m \u001b[38;5;28;43mself\u001b[39;49m\u001b[38;5;241;43m.\u001b[39;49m\u001b[43msslsocket_class\u001b[49m\u001b[38;5;241;43m.\u001b[39;49m\u001b[43m_create\u001b[49m\u001b[43m(\u001b[49m\n\u001b[1;32m    514\u001b[0m \u001b[43m        \u001b[49m\u001b[43msock\u001b[49m\u001b[38;5;241;43m=\u001b[39;49m\u001b[43msock\u001b[49m\u001b[43m,\u001b[49m\n\u001b[1;32m    515\u001b[0m \u001b[43m        \u001b[49m\u001b[43mserver_side\u001b[49m\u001b[38;5;241;43m=\u001b[39;49m\u001b[43mserver_side\u001b[49m\u001b[43m,\u001b[49m\n\u001b[1;32m    516\u001b[0m \u001b[43m        \u001b[49m\u001b[43mdo_handshake_on_connect\u001b[49m\u001b[38;5;241;43m=\u001b[39;49m\u001b[43mdo_handshake_on_connect\u001b[49m\u001b[43m,\u001b[49m\n\u001b[1;32m    517\u001b[0m \u001b[43m        \u001b[49m\u001b[43msuppress_ragged_eofs\u001b[49m\u001b[38;5;241;43m=\u001b[39;49m\u001b[43msuppress_ragged_eofs\u001b[49m\u001b[43m,\u001b[49m\n\u001b[1;32m    518\u001b[0m \u001b[43m        \u001b[49m\u001b[43mserver_hostname\u001b[49m\u001b[38;5;241;43m=\u001b[39;49m\u001b[43mserver_hostname\u001b[49m\u001b[43m,\u001b[49m\n\u001b[1;32m    519\u001b[0m \u001b[43m        \u001b[49m\u001b[43mcontext\u001b[49m\u001b[38;5;241;43m=\u001b[39;49m\u001b[38;5;28;43mself\u001b[39;49m\u001b[43m,\u001b[49m\n\u001b[1;32m    520\u001b[0m \u001b[43m        \u001b[49m\u001b[43msession\u001b[49m\u001b[38;5;241;43m=\u001b[39;49m\u001b[43msession\u001b[49m\n\u001b[1;32m    521\u001b[0m \u001b[43m    \u001b[49m\u001b[43m)\u001b[49m\n",
            "File \u001b[0;32m/Library/Frameworks/Python.framework/Versions/3.10/lib/python3.10/ssl.py:1071\u001b[0m, in \u001b[0;36mSSLSocket._create\u001b[0;34m(cls, sock, server_side, do_handshake_on_connect, suppress_ragged_eofs, server_hostname, context, session)\u001b[0m\n\u001b[1;32m   1070\u001b[0m             \u001b[38;5;28;01mraise\u001b[39;00m \u001b[38;5;167;01mValueError\u001b[39;00m(\u001b[38;5;124m\"\u001b[39m\u001b[38;5;124mdo_handshake_on_connect should not be specified for non-blocking sockets\u001b[39m\u001b[38;5;124m\"\u001b[39m)\n\u001b[0;32m-> 1071\u001b[0m         \u001b[38;5;28;43mself\u001b[39;49m\u001b[38;5;241;43m.\u001b[39;49m\u001b[43mdo_handshake\u001b[49m\u001b[43m(\u001b[49m\u001b[43m)\u001b[49m\n\u001b[1;32m   1072\u001b[0m \u001b[38;5;28;01mexcept\u001b[39;00m (\u001b[38;5;167;01mOSError\u001b[39;00m, \u001b[38;5;167;01mValueError\u001b[39;00m):\n",
            "File \u001b[0;32m/Library/Frameworks/Python.framework/Versions/3.10/lib/python3.10/ssl.py:1342\u001b[0m, in \u001b[0;36mSSLSocket.do_handshake\u001b[0;34m(self, block)\u001b[0m\n\u001b[1;32m   1341\u001b[0m         \u001b[38;5;28mself\u001b[39m\u001b[38;5;241m.\u001b[39msettimeout(\u001b[38;5;28;01mNone\u001b[39;00m)\n\u001b[0;32m-> 1342\u001b[0m     \u001b[38;5;28;43mself\u001b[39;49m\u001b[38;5;241;43m.\u001b[39;49m\u001b[43m_sslobj\u001b[49m\u001b[38;5;241;43m.\u001b[39;49m\u001b[43mdo_handshake\u001b[49m\u001b[43m(\u001b[49m\u001b[43m)\u001b[49m\n\u001b[1;32m   1343\u001b[0m \u001b[38;5;28;01mfinally\u001b[39;00m:\n",
            "\u001b[0;31mSSLCertVerificationError\u001b[0m: [SSL: CERTIFICATE_VERIFY_FAILED] certificate verify failed: unable to get local issuer certificate (_ssl.c:1007)",
            "\nDuring handling of the above exception, another exception occurred:\n",
            "\u001b[0;31mURLError\u001b[0m                                  Traceback (most recent call last)",
            "Cell \u001b[0;32mIn[21], line 2\u001b[0m\n\u001b[1;32m      1\u001b[0m \u001b[38;5;28;01mfrom\u001b[39;00m\u001b[38;5;250m \u001b[39m\u001b[38;5;21;01msklearn\u001b[39;00m\u001b[38;5;21;01m.\u001b[39;00m\u001b[38;5;21;01mdatasets\u001b[39;00m\u001b[38;5;250m \u001b[39m\u001b[38;5;28;01mimport\u001b[39;00m fetch_california_housing\n\u001b[0;32m----> 2\u001b[0m housing \u001b[38;5;241m=\u001b[39m \u001b[43mfetch_california_housing\u001b[49m\u001b[43m(\u001b[49m\u001b[43m)\u001b[49m\n\u001b[1;32m      3\u001b[0m \u001b[38;5;28mprint\u001b[39m(housing\u001b[38;5;241m.\u001b[39mdata\u001b[38;5;241m.\u001b[39mshape, housing\u001b[38;5;241m.\u001b[39mfeature_names)\n\u001b[1;32m      4\u001b[0m \u001b[38;5;28mprint\u001b[39m(housing\u001b[38;5;241m.\u001b[39mkeys())\n",
            "File \u001b[0;32m~/ml_env/lib/python3.10/site-packages/sklearn/utils/_param_validation.py:218\u001b[0m, in \u001b[0;36mvalidate_params.<locals>.decorator.<locals>.wrapper\u001b[0;34m(*args, **kwargs)\u001b[0m\n\u001b[1;32m    212\u001b[0m \u001b[38;5;28;01mtry\u001b[39;00m:\n\u001b[1;32m    213\u001b[0m     \u001b[38;5;28;01mwith\u001b[39;00m config_context(\n\u001b[1;32m    214\u001b[0m         skip_parameter_validation\u001b[38;5;241m=\u001b[39m(\n\u001b[1;32m    215\u001b[0m             prefer_skip_nested_validation \u001b[38;5;129;01mor\u001b[39;00m global_skip_validation\n\u001b[1;32m    216\u001b[0m         )\n\u001b[1;32m    217\u001b[0m     ):\n\u001b[0;32m--> 218\u001b[0m         \u001b[38;5;28;01mreturn\u001b[39;00m \u001b[43mfunc\u001b[49m\u001b[43m(\u001b[49m\u001b[38;5;241;43m*\u001b[39;49m\u001b[43margs\u001b[49m\u001b[43m,\u001b[49m\u001b[43m \u001b[49m\u001b[38;5;241;43m*\u001b[39;49m\u001b[38;5;241;43m*\u001b[39;49m\u001b[43mkwargs\u001b[49m\u001b[43m)\u001b[49m\n\u001b[1;32m    219\u001b[0m \u001b[38;5;28;01mexcept\u001b[39;00m InvalidParameterError \u001b[38;5;28;01mas\u001b[39;00m e:\n\u001b[1;32m    220\u001b[0m     \u001b[38;5;66;03m# When the function is just a wrapper around an estimator, we allow\u001b[39;00m\n\u001b[1;32m    221\u001b[0m     \u001b[38;5;66;03m# the function to delegate validation to the estimator, but we replace\u001b[39;00m\n\u001b[1;32m    222\u001b[0m     \u001b[38;5;66;03m# the name of the estimator by the name of the function in the error\u001b[39;00m\n\u001b[1;32m    223\u001b[0m     \u001b[38;5;66;03m# message to avoid confusion.\u001b[39;00m\n\u001b[1;32m    224\u001b[0m     msg \u001b[38;5;241m=\u001b[39m re\u001b[38;5;241m.\u001b[39msub(\n\u001b[1;32m    225\u001b[0m         \u001b[38;5;124mr\u001b[39m\u001b[38;5;124m\"\u001b[39m\u001b[38;5;124mparameter of \u001b[39m\u001b[38;5;124m\\\u001b[39m\u001b[38;5;124mw+ must be\u001b[39m\u001b[38;5;124m\"\u001b[39m,\n\u001b[1;32m    226\u001b[0m         \u001b[38;5;124mf\u001b[39m\u001b[38;5;124m\"\u001b[39m\u001b[38;5;124mparameter of \u001b[39m\u001b[38;5;132;01m{\u001b[39;00mfunc\u001b[38;5;241m.\u001b[39m\u001b[38;5;18m__qualname__\u001b[39m\u001b[38;5;132;01m}\u001b[39;00m\u001b[38;5;124m must be\u001b[39m\u001b[38;5;124m\"\u001b[39m,\n\u001b[1;32m    227\u001b[0m         \u001b[38;5;28mstr\u001b[39m(e),\n\u001b[1;32m    228\u001b[0m     )\n",
            "File \u001b[0;32m~/ml_env/lib/python3.10/site-packages/sklearn/datasets/_california_housing.py:177\u001b[0m, in \u001b[0;36mfetch_california_housing\u001b[0;34m(data_home, download_if_missing, return_X_y, as_frame, n_retries, delay)\u001b[0m\n\u001b[1;32m    171\u001b[0m     \u001b[38;5;28;01mraise\u001b[39;00m \u001b[38;5;167;01mOSError\u001b[39;00m(\u001b[38;5;124m\"\u001b[39m\u001b[38;5;124mData not found and `download_if_missing` is False\u001b[39m\u001b[38;5;124m\"\u001b[39m)\n\u001b[1;32m    173\u001b[0m logger\u001b[38;5;241m.\u001b[39minfo(\n\u001b[1;32m    174\u001b[0m     \u001b[38;5;124m\"\u001b[39m\u001b[38;5;124mDownloading Cal. housing from \u001b[39m\u001b[38;5;132;01m{}\u001b[39;00m\u001b[38;5;124m to \u001b[39m\u001b[38;5;132;01m{}\u001b[39;00m\u001b[38;5;124m\"\u001b[39m\u001b[38;5;241m.\u001b[39mformat(ARCHIVE\u001b[38;5;241m.\u001b[39murl, data_home)\n\u001b[1;32m    175\u001b[0m )\n\u001b[0;32m--> 177\u001b[0m archive_path \u001b[38;5;241m=\u001b[39m \u001b[43m_fetch_remote\u001b[49m\u001b[43m(\u001b[49m\n\u001b[1;32m    178\u001b[0m \u001b[43m    \u001b[49m\u001b[43mARCHIVE\u001b[49m\u001b[43m,\u001b[49m\n\u001b[1;32m    179\u001b[0m \u001b[43m    \u001b[49m\u001b[43mdirname\u001b[49m\u001b[38;5;241;43m=\u001b[39;49m\u001b[43mdata_home\u001b[49m\u001b[43m,\u001b[49m\n\u001b[1;32m    180\u001b[0m \u001b[43m    \u001b[49m\u001b[43mn_retries\u001b[49m\u001b[38;5;241;43m=\u001b[39;49m\u001b[43mn_retries\u001b[49m\u001b[43m,\u001b[49m\n\u001b[1;32m    181\u001b[0m \u001b[43m    \u001b[49m\u001b[43mdelay\u001b[49m\u001b[38;5;241;43m=\u001b[39;49m\u001b[43mdelay\u001b[49m\u001b[43m,\u001b[49m\n\u001b[1;32m    182\u001b[0m \u001b[43m\u001b[49m\u001b[43m)\u001b[49m\n\u001b[1;32m    184\u001b[0m \u001b[38;5;28;01mwith\u001b[39;00m tarfile\u001b[38;5;241m.\u001b[39mopen(mode\u001b[38;5;241m=\u001b[39m\u001b[38;5;124m\"\u001b[39m\u001b[38;5;124mr:gz\u001b[39m\u001b[38;5;124m\"\u001b[39m, name\u001b[38;5;241m=\u001b[39marchive_path) \u001b[38;5;28;01mas\u001b[39;00m f:\n\u001b[1;32m    185\u001b[0m     cal_housing \u001b[38;5;241m=\u001b[39m np\u001b[38;5;241m.\u001b[39mloadtxt(\n\u001b[1;32m    186\u001b[0m         f\u001b[38;5;241m.\u001b[39mextractfile(\u001b[38;5;124m\"\u001b[39m\u001b[38;5;124mCaliforniaHousing/cal_housing.data\u001b[39m\u001b[38;5;124m\"\u001b[39m), delimiter\u001b[38;5;241m=\u001b[39m\u001b[38;5;124m\"\u001b[39m\u001b[38;5;124m,\u001b[39m\u001b[38;5;124m\"\u001b[39m\n\u001b[1;32m    187\u001b[0m     )\n",
            "File \u001b[0;32m~/ml_env/lib/python3.10/site-packages/sklearn/datasets/_base.py:1512\u001b[0m, in \u001b[0;36m_fetch_remote\u001b[0;34m(remote, dirname, n_retries, delay)\u001b[0m\n\u001b[1;32m   1510\u001b[0m \u001b[38;5;28;01mwhile\u001b[39;00m \u001b[38;5;28;01mTrue\u001b[39;00m:\n\u001b[1;32m   1511\u001b[0m     \u001b[38;5;28;01mtry\u001b[39;00m:\n\u001b[0;32m-> 1512\u001b[0m         \u001b[43murlretrieve\u001b[49m\u001b[43m(\u001b[49m\u001b[43mremote\u001b[49m\u001b[38;5;241;43m.\u001b[39;49m\u001b[43murl\u001b[49m\u001b[43m,\u001b[49m\u001b[43m \u001b[49m\u001b[43mtemp_file_path\u001b[49m\u001b[43m)\u001b[49m\n\u001b[1;32m   1513\u001b[0m         \u001b[38;5;28;01mbreak\u001b[39;00m\n\u001b[1;32m   1514\u001b[0m     \u001b[38;5;28;01mexcept\u001b[39;00m (URLError, \u001b[38;5;167;01mTimeoutError\u001b[39;00m):\n",
            "File \u001b[0;32m/Library/Frameworks/Python.framework/Versions/3.10/lib/python3.10/urllib/request.py:241\u001b[0m, in \u001b[0;36murlretrieve\u001b[0;34m(url, filename, reporthook, data)\u001b[0m\n\u001b[1;32m    224\u001b[0m \u001b[38;5;250m\u001b[39m\u001b[38;5;124;03m\"\"\"\u001b[39;00m\n\u001b[1;32m    225\u001b[0m \u001b[38;5;124;03mRetrieve a URL into a temporary location on disk.\u001b[39;00m\n\u001b[1;32m    226\u001b[0m \n\u001b[0;32m   (...)\u001b[0m\n\u001b[1;32m    237\u001b[0m \u001b[38;5;124;03mdata file as well as the resulting HTTPMessage object.\u001b[39;00m\n\u001b[1;32m    238\u001b[0m \u001b[38;5;124;03m\"\"\"\u001b[39;00m\n\u001b[1;32m    239\u001b[0m url_type, path \u001b[38;5;241m=\u001b[39m _splittype(url)\n\u001b[0;32m--> 241\u001b[0m \u001b[38;5;28;01mwith\u001b[39;00m contextlib\u001b[38;5;241m.\u001b[39mclosing(\u001b[43murlopen\u001b[49m\u001b[43m(\u001b[49m\u001b[43murl\u001b[49m\u001b[43m,\u001b[49m\u001b[43m \u001b[49m\u001b[43mdata\u001b[49m\u001b[43m)\u001b[49m) \u001b[38;5;28;01mas\u001b[39;00m fp:\n\u001b[1;32m    242\u001b[0m     headers \u001b[38;5;241m=\u001b[39m fp\u001b[38;5;241m.\u001b[39minfo()\n\u001b[1;32m    244\u001b[0m     \u001b[38;5;66;03m# Just return the local path and the \"headers\" for file://\u001b[39;00m\n\u001b[1;32m    245\u001b[0m     \u001b[38;5;66;03m# URLs. No sense in performing a copy unless requested.\u001b[39;00m\n",
            "File \u001b[0;32m/Library/Frameworks/Python.framework/Versions/3.10/lib/python3.10/urllib/request.py:216\u001b[0m, in \u001b[0;36murlopen\u001b[0;34m(url, data, timeout, cafile, capath, cadefault, context)\u001b[0m\n\u001b[1;32m    214\u001b[0m \u001b[38;5;28;01melse\u001b[39;00m:\n\u001b[1;32m    215\u001b[0m     opener \u001b[38;5;241m=\u001b[39m _opener\n\u001b[0;32m--> 216\u001b[0m \u001b[38;5;28;01mreturn\u001b[39;00m \u001b[43mopener\u001b[49m\u001b[38;5;241;43m.\u001b[39;49m\u001b[43mopen\u001b[49m\u001b[43m(\u001b[49m\u001b[43murl\u001b[49m\u001b[43m,\u001b[49m\u001b[43m \u001b[49m\u001b[43mdata\u001b[49m\u001b[43m,\u001b[49m\u001b[43m \u001b[49m\u001b[43mtimeout\u001b[49m\u001b[43m)\u001b[49m\n",
            "File \u001b[0;32m/Library/Frameworks/Python.framework/Versions/3.10/lib/python3.10/urllib/request.py:519\u001b[0m, in \u001b[0;36mOpenerDirector.open\u001b[0;34m(self, fullurl, data, timeout)\u001b[0m\n\u001b[1;32m    516\u001b[0m     req \u001b[38;5;241m=\u001b[39m meth(req)\n\u001b[1;32m    518\u001b[0m sys\u001b[38;5;241m.\u001b[39maudit(\u001b[38;5;124m'\u001b[39m\u001b[38;5;124murllib.Request\u001b[39m\u001b[38;5;124m'\u001b[39m, req\u001b[38;5;241m.\u001b[39mfull_url, req\u001b[38;5;241m.\u001b[39mdata, req\u001b[38;5;241m.\u001b[39mheaders, req\u001b[38;5;241m.\u001b[39mget_method())\n\u001b[0;32m--> 519\u001b[0m response \u001b[38;5;241m=\u001b[39m \u001b[38;5;28;43mself\u001b[39;49m\u001b[38;5;241;43m.\u001b[39;49m\u001b[43m_open\u001b[49m\u001b[43m(\u001b[49m\u001b[43mreq\u001b[49m\u001b[43m,\u001b[49m\u001b[43m \u001b[49m\u001b[43mdata\u001b[49m\u001b[43m)\u001b[49m\n\u001b[1;32m    521\u001b[0m \u001b[38;5;66;03m# post-process response\u001b[39;00m\n\u001b[1;32m    522\u001b[0m meth_name \u001b[38;5;241m=\u001b[39m protocol\u001b[38;5;241m+\u001b[39m\u001b[38;5;124m\"\u001b[39m\u001b[38;5;124m_response\u001b[39m\u001b[38;5;124m\"\u001b[39m\n",
            "File \u001b[0;32m/Library/Frameworks/Python.framework/Versions/3.10/lib/python3.10/urllib/request.py:536\u001b[0m, in \u001b[0;36mOpenerDirector._open\u001b[0;34m(self, req, data)\u001b[0m\n\u001b[1;32m    533\u001b[0m     \u001b[38;5;28;01mreturn\u001b[39;00m result\n\u001b[1;32m    535\u001b[0m protocol \u001b[38;5;241m=\u001b[39m req\u001b[38;5;241m.\u001b[39mtype\n\u001b[0;32m--> 536\u001b[0m result \u001b[38;5;241m=\u001b[39m \u001b[38;5;28;43mself\u001b[39;49m\u001b[38;5;241;43m.\u001b[39;49m\u001b[43m_call_chain\u001b[49m\u001b[43m(\u001b[49m\u001b[38;5;28;43mself\u001b[39;49m\u001b[38;5;241;43m.\u001b[39;49m\u001b[43mhandle_open\u001b[49m\u001b[43m,\u001b[49m\u001b[43m \u001b[49m\u001b[43mprotocol\u001b[49m\u001b[43m,\u001b[49m\u001b[43m \u001b[49m\u001b[43mprotocol\u001b[49m\u001b[43m \u001b[49m\u001b[38;5;241;43m+\u001b[39;49m\n\u001b[1;32m    537\u001b[0m \u001b[43m                          \u001b[49m\u001b[38;5;124;43m'\u001b[39;49m\u001b[38;5;124;43m_open\u001b[39;49m\u001b[38;5;124;43m'\u001b[39;49m\u001b[43m,\u001b[49m\u001b[43m \u001b[49m\u001b[43mreq\u001b[49m\u001b[43m)\u001b[49m\n\u001b[1;32m    538\u001b[0m \u001b[38;5;28;01mif\u001b[39;00m result:\n\u001b[1;32m    539\u001b[0m     \u001b[38;5;28;01mreturn\u001b[39;00m result\n",
            "File \u001b[0;32m/Library/Frameworks/Python.framework/Versions/3.10/lib/python3.10/urllib/request.py:496\u001b[0m, in \u001b[0;36mOpenerDirector._call_chain\u001b[0;34m(self, chain, kind, meth_name, *args)\u001b[0m\n\u001b[1;32m    494\u001b[0m \u001b[38;5;28;01mfor\u001b[39;00m handler \u001b[38;5;129;01min\u001b[39;00m handlers:\n\u001b[1;32m    495\u001b[0m     func \u001b[38;5;241m=\u001b[39m \u001b[38;5;28mgetattr\u001b[39m(handler, meth_name)\n\u001b[0;32m--> 496\u001b[0m     result \u001b[38;5;241m=\u001b[39m \u001b[43mfunc\u001b[49m\u001b[43m(\u001b[49m\u001b[38;5;241;43m*\u001b[39;49m\u001b[43margs\u001b[49m\u001b[43m)\u001b[49m\n\u001b[1;32m    497\u001b[0m     \u001b[38;5;28;01mif\u001b[39;00m result \u001b[38;5;129;01mis\u001b[39;00m \u001b[38;5;129;01mnot\u001b[39;00m \u001b[38;5;28;01mNone\u001b[39;00m:\n\u001b[1;32m    498\u001b[0m         \u001b[38;5;28;01mreturn\u001b[39;00m result\n",
            "File \u001b[0;32m/Library/Frameworks/Python.framework/Versions/3.10/lib/python3.10/urllib/request.py:1391\u001b[0m, in \u001b[0;36mHTTPSHandler.https_open\u001b[0;34m(self, req)\u001b[0m\n\u001b[1;32m   1390\u001b[0m \u001b[38;5;28;01mdef\u001b[39;00m\u001b[38;5;250m \u001b[39m\u001b[38;5;21mhttps_open\u001b[39m(\u001b[38;5;28mself\u001b[39m, req):\n\u001b[0;32m-> 1391\u001b[0m     \u001b[38;5;28;01mreturn\u001b[39;00m \u001b[38;5;28;43mself\u001b[39;49m\u001b[38;5;241;43m.\u001b[39;49m\u001b[43mdo_open\u001b[49m\u001b[43m(\u001b[49m\u001b[43mhttp\u001b[49m\u001b[38;5;241;43m.\u001b[39;49m\u001b[43mclient\u001b[49m\u001b[38;5;241;43m.\u001b[39;49m\u001b[43mHTTPSConnection\u001b[49m\u001b[43m,\u001b[49m\u001b[43m \u001b[49m\u001b[43mreq\u001b[49m\u001b[43m,\u001b[49m\n\u001b[1;32m   1392\u001b[0m \u001b[43m        \u001b[49m\u001b[43mcontext\u001b[49m\u001b[38;5;241;43m=\u001b[39;49m\u001b[38;5;28;43mself\u001b[39;49m\u001b[38;5;241;43m.\u001b[39;49m\u001b[43m_context\u001b[49m\u001b[43m,\u001b[49m\u001b[43m \u001b[49m\u001b[43mcheck_hostname\u001b[49m\u001b[38;5;241;43m=\u001b[39;49m\u001b[38;5;28;43mself\u001b[39;49m\u001b[38;5;241;43m.\u001b[39;49m\u001b[43m_check_hostname\u001b[49m\u001b[43m)\u001b[49m\n",
            "File \u001b[0;32m/Library/Frameworks/Python.framework/Versions/3.10/lib/python3.10/urllib/request.py:1351\u001b[0m, in \u001b[0;36mAbstractHTTPHandler.do_open\u001b[0;34m(self, http_class, req, **http_conn_args)\u001b[0m\n\u001b[1;32m   1348\u001b[0m         h\u001b[38;5;241m.\u001b[39mrequest(req\u001b[38;5;241m.\u001b[39mget_method(), req\u001b[38;5;241m.\u001b[39mselector, req\u001b[38;5;241m.\u001b[39mdata, headers,\n\u001b[1;32m   1349\u001b[0m                   encode_chunked\u001b[38;5;241m=\u001b[39mreq\u001b[38;5;241m.\u001b[39mhas_header(\u001b[38;5;124m'\u001b[39m\u001b[38;5;124mTransfer-encoding\u001b[39m\u001b[38;5;124m'\u001b[39m))\n\u001b[1;32m   1350\u001b[0m     \u001b[38;5;28;01mexcept\u001b[39;00m \u001b[38;5;167;01mOSError\u001b[39;00m \u001b[38;5;28;01mas\u001b[39;00m err: \u001b[38;5;66;03m# timeout error\u001b[39;00m\n\u001b[0;32m-> 1351\u001b[0m         \u001b[38;5;28;01mraise\u001b[39;00m URLError(err)\n\u001b[1;32m   1352\u001b[0m     r \u001b[38;5;241m=\u001b[39m h\u001b[38;5;241m.\u001b[39mgetresponse()\n\u001b[1;32m   1353\u001b[0m \u001b[38;5;28;01mexcept\u001b[39;00m:\n",
            "\u001b[0;31mURLError\u001b[0m: <urlopen error [SSL: CERTIFICATE_VERIFY_FAILED] certificate verify failed: unable to get local issuer certificate (_ssl.c:1007)>"
          ]
        }
      ],
      "source": [
        "from sklearn.datasets import fetch_california_housing\n",
        "housing = fetch_california_housing()\n",
        "print(housing.data.shape, housing.feature_names)\n",
        "print(housing.keys())"
      ]
    },
    {
      "cell_type": "code",
      "execution_count": null,
      "metadata": {},
      "outputs": [
        {
          "ename": "NameError",
          "evalue": "name 'housing' is not defined",
          "output_type": "error",
          "traceback": [
            "\u001b[0;31m---------------------------------------------------------------------------\u001b[0m",
            "\u001b[0;31mNameError\u001b[0m                                 Traceback (most recent call last)",
            "Cell \u001b[0;32mIn[4], line 1\u001b[0m\n\u001b[0;32m----> 1\u001b[0m data \u001b[38;5;241m=\u001b[39m \u001b[43mhousing\u001b[49m[\u001b[38;5;124m'\u001b[39m\u001b[38;5;124mdata\u001b[39m\u001b[38;5;124m'\u001b[39m]\n\u001b[1;32m      2\u001b[0m target \u001b[38;5;241m=\u001b[39m housing[\u001b[38;5;124m'\u001b[39m\u001b[38;5;124mtarget\u001b[39m\u001b[38;5;124m'\u001b[39m]\n\u001b[1;32m      3\u001b[0m \u001b[38;5;28mprint\u001b[39m(\u001b[38;5;28mtype\u001b[39m(data), data\u001b[38;5;241m.\u001b[39mshape, \u001b[38;5;28mtype\u001b[39m(target), target\u001b[38;5;241m.\u001b[39mshape)\n",
            "\u001b[0;31mNameError\u001b[0m: name 'housing' is not defined"
          ]
        }
      ],
      "source": [
        "data = housing['data']\n",
        "target = housing['target']\n",
        "print(type(data), data.shape, type(target), target.shape)"
      ]
    },
    {
      "cell_type": "markdown",
      "metadata": {
        "id": "d1IImR9H9OQV"
      },
      "source": [
        "To start, we will select a few features from the dataset."
      ]
    },
    {
      "cell_type": "code",
      "execution_count": null,
      "metadata": {
        "colab": {
          "base_uri": "https://localhost:8080/"
        },
        "id": "APi1pun-9Pzx",
        "outputId": "7dd30f49-35ad-4a33-c8eb-2e471bb32c51"
      },
      "outputs": [
        {
          "name": "stdout",
          "output_type": "stream",
          "text": [
            "(20640, 3) ['HouseAge', 'AveRooms', 'AveBedrms']\n"
          ]
        }
      ],
      "source": [
        "X = housing.data[:, 1:4]\n",
        "print(X.shape, housing.feature_names[1:4])"
      ]
    },
    {
      "cell_type": "markdown",
      "metadata": {
        "id": "2Z3INqhUCOKz"
      },
      "source": [
        "Next, we will add a column where all values are 1."
      ]
    },
    {
      "cell_type": "code",
      "execution_count": null,
      "metadata": {
        "colab": {
          "base_uri": "https://localhost:8080/"
        },
        "id": "7hmjySL3Cb4C",
        "outputId": "d6c0b194-cfd4-4453-dd43-97cc575e56fa"
      },
      "outputs": [
        {
          "name": "stdout",
          "output_type": "stream",
          "text": [
            "(20640, 4)\n"
          ]
        }
      ],
      "source": [
        "X_full = np.c_[np.ones((X.shape[0], 1)), X]\n",
        "print(X_full.shape)"
      ]
    },
    {
      "cell_type": "markdown",
      "metadata": {
        "id": "dA1v7OVN9Y7S"
      },
      "source": [
        "The last step is to process the prediction target."
      ]
    },
    {
      "cell_type": "code",
      "execution_count": null,
      "metadata": {
        "colab": {
          "base_uri": "https://localhost:8080/"
        },
        "id": "QNpZEieh9aBO",
        "outputId": "5494f87d-761f-439e-b346-fc4451d210f9"
      },
      "outputs": [
        {
          "name": "stdout",
          "output_type": "stream",
          "text": [
            "(20640, 1) ['MedHouseVal']\n"
          ]
        }
      ],
      "source": [
        "y = housing.target.reshape(-1, 1)\n",
        "print(y.shape, housing.target_names)"
      ]
    },
    {
      "cell_type": "markdown",
      "metadata": {
        "id": "E9lhUs_BBH1H"
      },
      "source": [
        "The model is very compact when represented in its matrix form."
      ]
    },
    {
      "cell_type": "code",
      "execution_count": null,
      "metadata": {
        "colab": {
          "base_uri": "https://localhost:8080/"
        },
        "id": "hfVCV78sB7Jh",
        "outputId": "157cad16-0b14-4bdd-ed45-4a3d0441ea5a"
      },
      "outputs": [
        {
          "name": "stdout",
          "output_type": "stream",
          "text": [
            "(20640, 1)\n"
          ]
        }
      ],
      "source": [
        "def predict(feature, theta):\n",
        "    return feature @ theta\n",
        "\n",
        "theta_hat = np.array([[1], [2], [3], [4]])\n",
        "print(predict(X_full, theta_hat).shape)"
      ]
    },
    {
      "cell_type": "markdown",
      "metadata": {
        "id": "D497Wt3Yjjy7"
      },
      "source": [
        "## The Normal Equation\n",
        "\n",
        "The **Normal Equation** provides a direct, analytical solution to find the optimal values for $\\theta$ without needing to iterate. The formula is:\n",
        "\n",
        "$$\n",
        "\\mathbf{\\theta} = (X^T X)^{-1} X^T \\mathbf{y}\n",
        "$$\n",
        "\n",
        "Where:\n",
        "-   $X^T$ is the transpose of the feature matrix $X$.\n",
        "-   $X^T X$ is the dot product of the transpose of $X$ and $X$.\n",
        "-   $(X^T X)^{-1}$ is the inverse of that result.\n",
        "-   $\\mathbf{y}$ is the target vector.\n"
      ]
    },
    {
      "cell_type": "markdown",
      "metadata": {
        "id": "1WcKeEdzLmmb"
      },
      "source": [
        "Here is how we get the result\n",
        "Note that the linear function (model) as follows:\n",
        "$$\n",
        "h_{\\mathbf{\\theta}}(x_1, x_2,..., x_n) = \\theta_0\\cdot 1+\\theta_1x_1+,...,\\theta_nx_n\n",
        "$$\n",
        "Note $\\mathbf{x}=[x_1, x_2,..., x_n]$, then we have:\n",
        "$$\n",
        "h_{\\mathbf{\\theta}}(\\mathbf{x})=\\mathbf{x}\\mathbf{\\theta}\n",
        "$$\n",
        "Note that:\n",
        "$$\n",
        "X= \\begin{matrix} \\mathbf{x_1^T} \\\\ \\mathbf{x_2^T} \\\\ ... \\\\ \\mathbf{x_m^T} \\end{matrix}\n",
        "$$\n",
        "We can simplify the calculation as\n",
        "$$\n",
        "\\mathbf{y}=X\\mathbf{\\theta}\n",
        "$$\n",
        "Then we can define the loss function as:\n",
        "$$\n",
        "J(\\mathbf{\\theta})=\\frac{1}{2}(X\\mathbf{\\theta}-\\mathbf{y})^T(X\\mathbf{\\theta}-\\mathbf{y})\n",
        "$$\n",
        "Make the derivate of $J$ regarding $\\mathbf{\\theta}$ equals to $0$, we get\n",
        "$$\n",
        "\\frac{\\partial}{\\partial \\mathbf{\\theta}}J(\\mathbf{\\theta})=X^T(X\\mathbf{\\theta}-\\mathbf{y})=0\n",
        "$$\n",
        "Thus, we get:\n",
        "$$\n",
        "\\mathbf{\\theta}=(X^T X)^{-1} X^T \\mathbf{y}\n",
        "$$"
      ]
    },
    {
      "cell_type": "markdown",
      "metadata": {
        "id": "shWGj4UlDMHg"
      },
      "source": [
        "Calculate coefficients using the Normal Equation\n",
        "Using np.linalg.inv for matrix inversion and @ for dot product"
      ]
    },
    {
      "cell_type": "code",
      "execution_count": null,
      "metadata": {
        "colab": {
          "base_uri": "https://localhost:8080/"
        },
        "id": "fo3FTWsfgdty",
        "outputId": "6dd17fc5-8c19-4741-d026-0c5eefe7887b"
      },
      "outputs": [
        {
          "name": "stdout",
          "output_type": "stream",
          "text": [
            "Coefficients (Theta_best):\n",
            "[[ 1.52346805]\n",
            " [ 0.0153096 ]\n",
            " [ 0.34146565]\n",
            " [-1.59316623]]\n"
          ]
        }
      ],
      "source": [
        "theta_best = np.linalg.inv(X_full.T @ X_full) @ X_full.T @ y\n",
        "\n",
        "print(\"Coefficients (Theta_best):\")\n",
        "print(theta_best)"
      ]
    },
    {
      "cell_type": "markdown",
      "metadata": {
        "id": "C9GB821gc6OX"
      },
      "source": [
        "Let's check if the predictions are accurate."
      ]
    },
    {
      "cell_type": "code",
      "execution_count": null,
      "metadata": {
        "colab": {
          "base_uri": "https://localhost:8080/"
        },
        "id": "Kpw8I-ModA8Q",
        "outputId": "f4669bf0-f7ad-4e26-804e-4d43bd2bb0fe"
      },
      "outputs": [
        {
          "name": "stdout",
          "output_type": "stream",
          "text": [
            "Prediction: [2.90490224], Ground Truth: [4.526]\n",
            "Prediction: [2.42671195], Ground Truth: [3.585]\n",
            "Prediction: [3.43950228], Ground Truth: [3.521]\n",
            "Prediction: [2.59643092], Ground Truth: [3.413]\n",
            "Prediction: [2.74226235], Ground Truth: [3.422]\n"
          ]
        }
      ],
      "source": [
        "preds = predict(X_full, theta_best)\n",
        "\n",
        "for pred, gt in zip(preds[:5], y[:5]):\n",
        "    print(f\"Prediction: {pred}, Ground Truth: {gt}\")"
      ]
    },
    {
      "cell_type": "markdown",
      "metadata": {
        "id": "k0zGZK9CDiiN"
      },
      "source": [
        "Let's see if `sklearn` performs better."
      ]
    },
    {
      "cell_type": "code",
      "execution_count": null,
      "metadata": {
        "colab": {
          "base_uri": "https://localhost:8080/"
        },
        "id": "19zJr9uiIv_4",
        "outputId": "448304bd-0a0b-46c5-bddd-bed1ae452791"
      },
      "outputs": [
        {
          "name": "stdout",
          "output_type": "stream",
          "text": [
            "Prediction: [2.90490224], Ground Truth: [4.526]\n",
            "Prediction: [2.42671195], Ground Truth: [3.585]\n",
            "Prediction: [3.43950228], Ground Truth: [3.521]\n",
            "Prediction: [2.59643092], Ground Truth: [3.413]\n",
            "Prediction: [2.74226235], Ground Truth: [3.422]\n"
          ]
        }
      ],
      "source": [
        "from sklearn.linear_model import LinearRegression\n",
        "\n",
        "model = LinearRegression()\n",
        "\n",
        "model.fit(X, y)\n",
        "\n",
        "preds = model.predict(X)\n",
        "for pred, gt in zip(preds[:5], y[:5]):\n",
        "    print(f\"Prediction: {pred}, Ground Truth: {gt}\")"
      ]
    },
    {
      "cell_type": "markdown",
      "metadata": {
        "id": "JH1YWSrLI7ly"
      },
      "source": [
        "Gradient Descent\n",
        "\n",
        "The problem can also be solved using gradient descent (of course). Slightly different from the normal equation, we have:\n",
        "$$\n",
        "J(\\mathbf{\\theta})=\\frac{1}{2}(X\\mathbf{\\theta}-\\mathbf{y})^T(X\\mathbf{\\theta}-\\mathbf{y})\n",
        "$$\n",
        "and thus, the gradient vector is:\n",
        "$$\n",
        "\\frac{\\partial}{\\partial \\mathbf{\\theta}}J(\\mathbf{\\theta})=\\frac{1}{m}X^T(X\\mathbf{\\theta}-\\mathbf{y})\n",
        "$$\n",
        "\n",
        "\n",
        "\n",
        "Similar to the univariate linear regression, we implement the algorithm block by block."
      ]
    },
    {
      "cell_type": "markdown",
      "metadata": {
        "id": "AliVj1uzOk2x"
      },
      "source": [
        "We will implement the loss function first, following the same basic steps as single-variable linear regression."
      ]
    },
    {
      "cell_type": "code",
      "execution_count": null,
      "metadata": {
        "id": "0dNSHA8ZOrJv"
      },
      "outputs": [],
      "source": [
        "def cost_function(X, y, theta):\n",
        "    m = len(y)\n",
        "    predictions = X @ theta\n",
        "    cost = (1/(2*m)) * np.sum(np.square(predictions - y))\n",
        "    return cost"
      ]
    },
    {
      "cell_type": "markdown",
      "metadata": {
        "id": "fjwYZ77MOtMF"
      },
      "source": [
        "The next step is to implement how to calculate the gradient."
      ]
    },
    {
      "cell_type": "code",
      "execution_count": null,
      "metadata": {
        "id": "b2lTBbSkSIHU"
      },
      "outputs": [],
      "source": [
        "def gradient(X, y, theta):\n",
        "    m = len(y)\n",
        "    predictions = X @ theta\n",
        "    grad = (1/m) * X.T @ (predictions - y)\n",
        "    return grad"
      ]
    },
    {
      "cell_type": "markdown",
      "metadata": {
        "id": "IUJpy_KLSNLN"
      },
      "source": [
        "Initialize the model's parameters randomly."
      ]
    },
    {
      "cell_type": "code",
      "execution_count": null,
      "metadata": {
        "colab": {
          "base_uri": "https://localhost:8080/"
        },
        "id": "4ASSxYZtSraH",
        "outputId": "a01b1f22-ffd4-4b07-f8c1-587c8464b2ee"
      },
      "outputs": [
        {
          "name": "stdout",
          "output_type": "stream",
          "text": [
            "[[0.04190765]\n",
            " [1.01251601]\n",
            " [0.30311072]\n",
            " [0.80913413]]\n"
          ]
        }
      ],
      "source": [
        "theta_init = np.random.randn(X_full.shape[1], 1)\n",
        "print(theta_init)"
      ]
    },
    {
      "cell_type": "markdown",
      "metadata": {
        "id": "ThPZvOBfTJod"
      },
      "source": [
        "Define the hyperparameters and implement the training loop."
      ]
    },
    {
      "cell_type": "code",
      "execution_count": null,
      "metadata": {
        "colab": {
          "base_uri": "https://localhost:8080/"
        },
        "id": "bsl0sQWMTMHA",
        "outputId": "9a319c4d-f4ff-4d35-9bbc-f978cc17b761"
      },
      "outputs": [
        {
          "name": "stdout",
          "output_type": "stream",
          "text": [
            "Coefficients (Theta_best) from Gradient Descent:\n",
            "[[0.01619291]\n",
            " [0.02552998]\n",
            " [0.07965402]\n",
            " [0.75192994]]\n"
          ]
        }
      ],
      "source": [
        "learning_rate = 0.0001\n",
        "n_iterations = 1000\n",
        "theta = theta_init\n",
        "cost_history = []\n",
        "theta_history = []\n",
        "\n",
        "for _ in range(n_iterations):\n",
        "    grad = gradient(X_full, y, theta)\n",
        "    theta = theta - learning_rate * grad\n",
        "    cost = cost_function(X_full, y, theta)\n",
        "    cost_history.append(cost)\n",
        "    theta_history.append(theta)\n",
        "\n",
        "print(\"Coefficients (Theta_best) from Gradient Descent:\")\n",
        "print(theta)"
      ]
    },
    {
      "cell_type": "markdown",
      "metadata": {
        "id": "e49QOpHKfcGv"
      },
      "source": [
        "Let's evaluate the model's performance."
      ]
    },
    {
      "cell_type": "code",
      "execution_count": null,
      "metadata": {
        "colab": {
          "base_uri": "https://localhost:8080/"
        },
        "id": "wzfY9CRffjNQ",
        "outputId": "8abe2993-f525-4de1-f46c-20b00d158355"
      },
      "outputs": [
        {
          "name": "stdout",
          "output_type": "stream",
          "text": [
            "Prediction: [2.38906896], Ground Truth: [4.526]\n",
            "Prediction: [1.78000125], Ground Truth: [3.585]\n",
            "Prediction: [2.81109167], Ground Truth: [3.521]\n",
            "Prediction: [2.61399282], Ground Truth: [3.413]\n",
            "Prediction: [2.65702402], Ground Truth: [3.422]\n"
          ]
        }
      ],
      "source": [
        "preds = predict(X_full, theta)\n",
        "\n",
        "for pred, gt in zip(preds[:5], y[:5]):\n",
        "    print(f\"Prediction: {pred}, Ground Truth: {gt}\")"
      ]
    },
    {
      "cell_type": "markdown",
      "metadata": {
        "id": "8dw-Y8gckFHs"
      },
      "source": [
        "## Normal Equation vs. Gradient Descent\n",
        "\n",
        "-   **Normal Equation:**\n",
        "    -   **Pros:** Direct solution, no need to choose a learning rate or number of iterations.\n",
        "    -   **Cons:** Computationally expensive for large datasets ($O(n^3)$ due to matrix inversion).\n",
        "\n",
        "-   **Gradient Descent:**\n",
        "    -   **Pros:** More scalable for large datasets.\n",
        "    -   **Cons:** Requires tuning hyperparameters like learning rate and number of iterations.\n",
        "\n",
        "For many real-world problems, especially with massive datasets, libraries like scikit-learn use optimized algorithms (often based on gradient descent) for efficiency."
      ]
    }
  ],
  "metadata": {
    "colab": {
      "provenance": []
    },
    "kernelspec": {
      "display_name": "ml_env",
      "language": "python",
      "name": "python3"
    },
    "language_info": {
      "codemirror_mode": {
        "name": "ipython",
        "version": 3
      },
      "file_extension": ".py",
      "mimetype": "text/x-python",
      "name": "python",
      "nbconvert_exporter": "python",
      "pygments_lexer": "ipython3",
      "version": "3.10.11"
    }
  },
  "nbformat": 4,
  "nbformat_minor": 0
}
